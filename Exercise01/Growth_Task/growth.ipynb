{
 "cells": [
  {
   "cell_type": "code",
   "execution_count": 1,
   "id": "b3dec03c",
   "metadata": {
    "_cell_guid": "b1076dfc-b9ad-4769-8c92-a6c4dae69d19",
    "_uuid": "8f2839f25d086af736a60e9eeb907d3b93b6e0e5",
    "execution": {
     "iopub.execute_input": "2024-04-28T07:53:01.435813Z",
     "iopub.status.busy": "2024-04-28T07:53:01.434660Z",
     "iopub.status.idle": "2024-04-28T07:53:02.742813Z",
     "shell.execute_reply": "2024-04-28T07:53:02.740747Z"
    },
    "papermill": {
     "duration": 1.31853,
     "end_time": "2024-04-28T07:53:02.746079",
     "exception": false,
     "start_time": "2024-04-28T07:53:01.427549",
     "status": "completed"
    },
    "tags": []
   },
   "outputs": [
    {
     "name": "stdout",
     "output_type": "stream",
     "text": [
      "/kaggle/input/teco-psda-exercisesheet1-growth-2024/growth_train.csv\n",
      "/kaggle/input/teco-psda-exercisesheet1-growth-2024/growth_test_sample.csv\n",
      "/kaggle/input/teco-psda-exercisesheet1-growth-2024/growth_meta.pdf\n",
      "/kaggle/input/teco-psda-exercisesheet1-growth-2024/growth_test.csv\n"
     ]
    }
   ],
   "source": [
    "# This Python 3 environment comes with many helpful analytics libraries installed\n",
    "# It is defined by the kaggle/python Docker image: https://github.com/kaggle/docker-python\n",
    "# For example, here's several helpful packages to load\n",
    "\n",
    "import numpy as np # linear algebra\n",
    "import pandas as pd # data processing, CSV file I/O (e.g. pd.read_csv)\n",
    "\n",
    "# Input data files are available in the read-only \"../input/\" directory\n",
    "# For example, running this (by clicking run or pressing Shift+Enter) will list all files under the input directory\n",
    "\n",
    "import os\n",
    "for dirname, _, filenames in os.walk('/kaggle/input'):\n",
    "    for filename in filenames:\n",
    "        print(os.path.join(dirname, filename))\n",
    "\n",
    "# You can write up to 20GB to the current directory (/kaggle/working/) that gets preserved as output when you create a version using \"Save & Run All\" \n",
    "# You can also write temporary files to /kaggle/temp/, but they won't be saved outside of the current session"
   ]
  },
  {
   "cell_type": "code",
   "execution_count": 2,
   "id": "5ce3551a",
   "metadata": {
    "execution": {
     "iopub.execute_input": "2024-04-28T07:53:02.758009Z",
     "iopub.status.busy": "2024-04-28T07:53:02.756938Z",
     "iopub.status.idle": "2024-04-28T07:53:02.815382Z",
     "shell.execute_reply": "2024-04-28T07:53:02.813998Z"
    },
    "papermill": {
     "duration": 0.067885,
     "end_time": "2024-04-28T07:53:02.818406",
     "exception": false,
     "start_time": "2024-04-28T07:53:02.750521",
     "status": "completed"
    },
    "tags": []
   },
   "outputs": [
    {
     "data": {
      "text/html": [
       "<div>\n",
       "<style scoped>\n",
       "    .dataframe tbody tr th:only-of-type {\n",
       "        vertical-align: middle;\n",
       "    }\n",
       "\n",
       "    .dataframe tbody tr th {\n",
       "        vertical-align: top;\n",
       "    }\n",
       "\n",
       "    .dataframe thead th {\n",
       "        text-align: right;\n",
       "    }\n",
       "</style>\n",
       "<table border=\"1\" class=\"dataframe\">\n",
       "  <thead>\n",
       "    <tr style=\"text-align: right;\">\n",
       "      <th></th>\n",
       "      <th>Unnamed: 0</th>\n",
       "      <th>country_name</th>\n",
       "      <th>growth</th>\n",
       "      <th>oil</th>\n",
       "      <th>rgdp60</th>\n",
       "      <th>tradeshare</th>\n",
       "      <th>yearsschool</th>\n",
       "      <th>rev_coups</th>\n",
       "      <th>assasinations</th>\n",
       "    </tr>\n",
       "  </thead>\n",
       "  <tbody>\n",
       "    <tr>\n",
       "      <th>0</th>\n",
       "      <td>1</td>\n",
       "      <td>Argentina</td>\n",
       "      <td>0,617645085</td>\n",
       "      <td>0</td>\n",
       "      <td>4462,001465</td>\n",
       "      <td>0,156622976</td>\n",
       "      <td>4,989999771</td>\n",
       "      <td>0,933333337</td>\n",
       "      <td>1,933333278</td>\n",
       "    </tr>\n",
       "    <tr>\n",
       "      <th>1</th>\n",
       "      <td>4</td>\n",
       "      <td>United States</td>\n",
       "      <td>1,712264895</td>\n",
       "      <td>0</td>\n",
       "      <td>9895,003906</td>\n",
       "      <td>0,160815045</td>\n",
       "      <td>8,659999847</td>\n",
       "      <td>0</td>\n",
       "      <td>0,433333337</td>\n",
       "    </tr>\n",
       "    <tr>\n",
       "      <th>2</th>\n",
       "      <td>8</td>\n",
       "      <td>Peru</td>\n",
       "      <td>0,060205959</td>\n",
       "      <td>0</td>\n",
       "      <td>2019,000244</td>\n",
       "      <td>0,324612707</td>\n",
       "      <td>3,019999981</td>\n",
       "      <td>0,266666681</td>\n",
       "      <td>0,566666663</td>\n",
       "    </tr>\n",
       "    <tr>\n",
       "      <th>3</th>\n",
       "      <td>11</td>\n",
       "      <td>Italy</td>\n",
       "      <td>2,932981491</td>\n",
       "      <td>0</td>\n",
       "      <td>4564,000488</td>\n",
       "      <td>0,330021679</td>\n",
       "      <td>4,559999943</td>\n",
       "      <td>0,033333335</td>\n",
       "      <td>1,200000048</td>\n",
       "    </tr>\n",
       "    <tr>\n",
       "      <th>4</th>\n",
       "      <td>12</td>\n",
       "      <td>Greece</td>\n",
       "      <td>3,224050045</td>\n",
       "      <td>0</td>\n",
       "      <td>2093</td>\n",
       "      <td>0,337879002</td>\n",
       "      <td>4,369999886</td>\n",
       "      <td>0,166666672</td>\n",
       "      <td>0,166666672</td>\n",
       "    </tr>\n",
       "  </tbody>\n",
       "</table>\n",
       "</div>"
      ],
      "text/plain": [
       "   Unnamed: 0   country_name       growth  oil       rgdp60   tradeshare  \\\n",
       "0           1      Argentina  0,617645085    0  4462,001465  0,156622976   \n",
       "1           4  United States  1,712264895    0  9895,003906  0,160815045   \n",
       "2           8           Peru  0,060205959    0  2019,000244  0,324612707   \n",
       "3          11          Italy  2,932981491    0  4564,000488  0,330021679   \n",
       "4          12         Greece  3,224050045    0         2093  0,337879002   \n",
       "\n",
       "   yearsschool    rev_coups assasinations  \n",
       "0  4,989999771  0,933333337   1,933333278  \n",
       "1  8,659999847            0   0,433333337  \n",
       "2  3,019999981  0,266666681   0,566666663  \n",
       "3  4,559999943  0,033333335   1,200000048  \n",
       "4  4,369999886  0,166666672   0,166666672  "
      ]
     },
     "execution_count": 2,
     "metadata": {},
     "output_type": "execute_result"
    }
   ],
   "source": [
    "train_data = pd.read_csv(\"/kaggle/input/teco-psda-exercisesheet1-growth-2024/growth_train.csv\")\n",
    "train_data.head()"
   ]
  },
  {
   "cell_type": "code",
   "execution_count": 3,
   "id": "6761bc8a",
   "metadata": {
    "execution": {
     "iopub.execute_input": "2024-04-28T07:53:02.829138Z",
     "iopub.status.busy": "2024-04-28T07:53:02.828145Z",
     "iopub.status.idle": "2024-04-28T07:53:02.854522Z",
     "shell.execute_reply": "2024-04-28T07:53:02.853008Z"
    },
    "papermill": {
     "duration": 0.034964,
     "end_time": "2024-04-28T07:53:02.857377",
     "exception": false,
     "start_time": "2024-04-28T07:53:02.822413",
     "status": "completed"
    },
    "tags": []
   },
   "outputs": [
    {
     "data": {
      "text/html": [
       "<div>\n",
       "<style scoped>\n",
       "    .dataframe tbody tr th:only-of-type {\n",
       "        vertical-align: middle;\n",
       "    }\n",
       "\n",
       "    .dataframe tbody tr th {\n",
       "        vertical-align: top;\n",
       "    }\n",
       "\n",
       "    .dataframe thead th {\n",
       "        text-align: right;\n",
       "    }\n",
       "</style>\n",
       "<table border=\"1\" class=\"dataframe\">\n",
       "  <thead>\n",
       "    <tr style=\"text-align: right;\">\n",
       "      <th></th>\n",
       "      <th>Unnamed: 0</th>\n",
       "      <th>country_name</th>\n",
       "      <th>oil</th>\n",
       "      <th>rgdp60</th>\n",
       "      <th>tradeshare</th>\n",
       "      <th>yearsschool</th>\n",
       "      <th>rev_coups</th>\n",
       "      <th>assasinations</th>\n",
       "    </tr>\n",
       "  </thead>\n",
       "  <tbody>\n",
       "    <tr>\n",
       "      <th>0</th>\n",
       "      <td>0</td>\n",
       "      <td>India</td>\n",
       "      <td>0</td>\n",
       "      <td>765,9998169</td>\n",
       "      <td>0,140501976</td>\n",
       "      <td>1,450000048</td>\n",
       "      <td>0,13333334</td>\n",
       "      <td>0,866666675</td>\n",
       "    </tr>\n",
       "    <tr>\n",
       "      <th>1</th>\n",
       "      <td>2</td>\n",
       "      <td>Japan</td>\n",
       "      <td>0</td>\n",
       "      <td>2953,999512</td>\n",
       "      <td>0,157703221</td>\n",
       "      <td>6,710000038</td>\n",
       "      <td>0</td>\n",
       "      <td>0,200000003</td>\n",
       "    </tr>\n",
       "    <tr>\n",
       "      <th>2</th>\n",
       "      <td>3</td>\n",
       "      <td>Brazil</td>\n",
       "      <td>0</td>\n",
       "      <td>1783,999878</td>\n",
       "      <td>0,160405084</td>\n",
       "      <td>2,890000105</td>\n",
       "      <td>0,100000001</td>\n",
       "      <td>0,100000001</td>\n",
       "    </tr>\n",
       "    <tr>\n",
       "      <th>3</th>\n",
       "      <td>5</td>\n",
       "      <td>Bangladesh</td>\n",
       "      <td>0</td>\n",
       "      <td>951,9998169</td>\n",
       "      <td>0,22145839</td>\n",
       "      <td>0,790000021</td>\n",
       "      <td>0,306481481</td>\n",
       "      <td>0,174999997</td>\n",
       "    </tr>\n",
       "    <tr>\n",
       "      <th>4</th>\n",
       "      <td>6</td>\n",
       "      <td>Spain</td>\n",
       "      <td>0</td>\n",
       "      <td>3123,001465</td>\n",
       "      <td>0,299405932</td>\n",
       "      <td>3,799999952</td>\n",
       "      <td>0,06666667</td>\n",
       "      <td>1,433333278</td>\n",
       "    </tr>\n",
       "  </tbody>\n",
       "</table>\n",
       "</div>"
      ],
      "text/plain": [
       "   Unnamed: 0 country_name  oil       rgdp60   tradeshare  yearsschool  \\\n",
       "0           0        India    0  765,9998169  0,140501976  1,450000048   \n",
       "1           2        Japan    0  2953,999512  0,157703221  6,710000038   \n",
       "2           3       Brazil    0  1783,999878  0,160405084  2,890000105   \n",
       "3           5   Bangladesh    0  951,9998169   0,22145839  0,790000021   \n",
       "4           6        Spain    0  3123,001465  0,299405932  3,799999952   \n",
       "\n",
       "     rev_coups assasinations  \n",
       "0   0,13333334   0,866666675  \n",
       "1            0   0,200000003  \n",
       "2  0,100000001   0,100000001  \n",
       "3  0,306481481   0,174999997  \n",
       "4   0,06666667   1,433333278  "
      ]
     },
     "execution_count": 3,
     "metadata": {},
     "output_type": "execute_result"
    }
   ],
   "source": [
    "test_data = pd.read_csv(\"/kaggle/input/teco-psda-exercisesheet1-growth-2024/growth_test.csv\")\n",
    "test_data.head()"
   ]
  },
  {
   "cell_type": "code",
   "execution_count": 4,
   "id": "10a26609",
   "metadata": {
    "execution": {
     "iopub.execute_input": "2024-04-28T07:53:02.876858Z",
     "iopub.status.busy": "2024-04-28T07:53:02.876061Z",
     "iopub.status.idle": "2024-04-28T07:59:34.841450Z",
     "shell.execute_reply": "2024-04-28T07:59:34.839664Z"
    },
    "papermill": {
     "duration": 391.977618,
     "end_time": "2024-04-28T07:59:34.847435",
     "exception": false,
     "start_time": "2024-04-28T07:53:02.869817",
     "status": "completed"
    },
    "tags": []
   },
   "outputs": [
    {
     "name": "stderr",
     "output_type": "stream",
     "text": [
      "/opt/conda/lib/python3.10/site-packages/sklearn/preprocessing/_encoders.py:868: FutureWarning: `sparse` was renamed to `sparse_output` in version 1.2 and will be removed in 1.4. `sparse_output` is ignored unless you leave `sparse` to its default value.\n",
      "  warnings.warn(\n"
     ]
    },
    {
     "name": "stdout",
     "output_type": "stream",
     "text": [
      "Best parameters found: {'max_depth': 10, 'min_samples_leaf': 8, 'min_samples_split': 2, 'n_estimators': 600}\n",
      "Your submission was successfully saved!\n"
     ]
    }
   ],
   "source": [
    "from sklearn.ensemble import RandomForestRegressor\n",
    "from sklearn.model_selection import GridSearchCV\n",
    "from sklearn.preprocessing import OneHotEncoder\n",
    "\n",
    "y = train_data[\"growth\"].str.replace(',', '.', regex=False)\n",
    "y = y.astype(float)\n",
    "\n",
    "features = [\"country_name\",\"oil\", \"rgdp60\",\"tradeshare\",\"yearsschool\",\"rev_coups\",\"assasinations\"]\n",
    "encoder = OneHotEncoder(handle_unknown='ignore', sparse=False)\n",
    "X_encoded = encoder.fit_transform(train_data[features])\n",
    "X_test_encoded = encoder.transform(test_data[features])\n",
    "X = pd.DataFrame(X_encoded, columns=encoder.get_feature_names_out())\n",
    "X_test = pd.DataFrame(X_test_encoded, columns=encoder.get_feature_names_out())\n",
    "\n",
    "\n",
    "param_grid = {\n",
    "    'n_estimators': [600, 700, 500],\n",
    "    'max_depth': [10, 5, None],\n",
    "    'min_samples_split': [2, 5, 10],\n",
    "    'min_samples_leaf': [4, 6,8]\n",
    "}\n",
    "\n",
    "rf = RandomForestRegressor(random_state=2)\n",
    "grid_search = GridSearchCV(estimator=rf, param_grid=param_grid, cv=10, verbose=0, n_jobs=-1, scoring='neg_mean_squared_error')\n",
    "grid_search.fit(X, y)\n",
    "\n",
    "print(\"Best parameters found:\", grid_search.best_params_)\n",
    "best_rf = grid_search.best_estimator_\n",
    "predictions = best_rf.predict(X_test)\n",
    "\n",
    "output = pd.DataFrame({'Id': test_data.iloc[:,0], 'Expected': predictions})\n",
    "output.to_csv('submission.csv', index=False)\n",
    "print(\"Your submission was successfully saved!\")"
   ]
  }
 ],
 "metadata": {
  "kaggle": {
   "accelerator": "none",
   "dataSources": [
    {
     "databundleVersionId": 8291745,
     "sourceId": 75403,
     "sourceType": "competition"
    }
   ],
   "dockerImageVersionId": 30698,
   "isGpuEnabled": false,
   "isInternetEnabled": false,
   "language": "python",
   "sourceType": "notebook"
  },
  "kernelspec": {
   "display_name": "Python 3",
   "language": "python",
   "name": "python3"
  },
  "language_info": {
   "codemirror_mode": {
    "name": "ipython",
    "version": 3
   },
   "file_extension": ".py",
   "mimetype": "text/x-python",
   "name": "python",
   "nbconvert_exporter": "python",
   "pygments_lexer": "ipython3",
   "version": "3.10.13"
  },
  "papermill": {
   "default_parameters": {},
   "duration": 399.861514,
   "end_time": "2024-04-28T07:59:37.476931",
   "environment_variables": {},
   "exception": null,
   "input_path": "__notebook__.ipynb",
   "output_path": "__notebook__.ipynb",
   "parameters": {},
   "start_time": "2024-04-28T07:52:57.615417",
   "version": "2.5.0"
  }
 },
 "nbformat": 4,
 "nbformat_minor": 5
}
